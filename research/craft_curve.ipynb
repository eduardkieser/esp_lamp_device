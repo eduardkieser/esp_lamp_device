{
 "cells": [
  {
   "cell_type": "code",
   "execution_count": 14,
   "id": "4bd73546",
   "metadata": {},
   "outputs": [
    {
     "name": "stdout",
     "output_type": "stream",
     "text": [
      "[0 1 2 3 4 5 6 7 8 9]\n",
      "[0 0 0 0 0 0 0 0 0 0 0 0 0 0 0 0 0 0 0 0 0 0 0 0 0 0 0 0 0 0 0 0 0 0 0 0 0\n",
      " 0 0 0 0 0 0 0 0 0 0 0 1 1 1 1 1 1 1 1 1 1 1 1 1 1 1 2 2 2 2 2 2 2 2 2 2 2\n",
      " 2 3 3 3 3 3 3 3 3 3 4 4 4 4 4 4 4 4 5 5 5 5 5 5 5 6]\n",
      "[1014 1015 1016 1017 1018 1019 1020 1021 1022 1023]\n",
      "[2007 2012 2017 2022 2027 2032 2037 2042 2047 2052]\n"
     ]
    }
   ],
   "source": [
    "import numpy as np\n",
    "import matplotlib.pyplot as plt\n",
    "\n",
    "input = np.arange(0, 1024, 1)\n",
    "max_pwm = 2047\n",
    "\n",
    "def map_exponential(input, exponent):\n",
    "    return (np.power((input+1) / 1023, exponent) * max_pwm)\n",
    "\n",
    "output = map_exponential(input, 2.5).astype(int)\n",
    "\n",
    "print(input[:10])\n",
    "print(output[:100])\n",
    "print(input[-10:])\n",
    "print(output[-10:])"
   ]
  },
  {
   "cell_type": "code",
   "execution_count": null,
   "id": "aedaea46",
   "metadata": {},
   "outputs": [],
   "source": []
  }
 ],
 "metadata": {
  "kernelspec": {
   "display_name": "hw310",
   "language": "python",
   "name": "python3"
  },
  "language_info": {
   "codemirror_mode": {
    "name": "ipython",
    "version": 3
   },
   "file_extension": ".py",
   "mimetype": "text/x-python",
   "name": "python",
   "nbconvert_exporter": "python",
   "pygments_lexer": "ipython3",
   "version": "3.10.4"
  }
 },
 "nbformat": 4,
 "nbformat_minor": 5
}
